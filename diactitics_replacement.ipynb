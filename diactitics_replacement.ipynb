{
 "cells": [
  {
   "cell_type": "code",
   "execution_count": 1,
   "id": "a7eb4f96-9ffa-4cca-837f-76dcdf1e23f3",
   "metadata": {},
   "outputs": [],
   "source": [
    "import pandas as pd\n",
    "import random\n",
    "import numpy as np\n",
    "from tqdm import tqdm"
   ]
  },
  {
   "cell_type": "code",
   "execution_count": 2,
   "id": "ebd3f7a9-6b6f-48dd-938c-f4670bbfb3c6",
   "metadata": {},
   "outputs": [],
   "source": [
    "# Chuvash alphabet\n",
    "chuvash_alpahbet = ['А', 'а', 'Ӑ', 'ӑ', 'Б', 'б', 'В', 'в', 'Г', 'г', 'Д', 'д',\n",
    "                    'Е', 'е', 'Ё', 'ё', 'Ӗ', 'ӗ', 'Ж', 'ж', 'З', 'з', 'И', 'и',\n",
    "                    'Й', 'й', 'К', 'к', 'Л', 'л', 'М', 'м', 'Н', 'н', 'О', 'о',\n",
    "                    'П', 'п', 'Р', 'р', 'С', 'с', 'Ҫ', 'ҫ', 'Т', 'т', 'У', 'у',\n",
    "                    'Ӳ', 'ӳ', 'Ф', 'ф', 'Х', 'х', 'Ц', 'ц', 'Ч', 'ч', 'Ш', 'ш',\n",
    "                    'Щ', 'щ', 'Ъ', 'ъ', 'Ы', 'ы', 'Ь', 'ь', 'Э', 'э', 'Ю', 'ю',\n",
    "                    'Я', 'я']\n",
    "\n",
    "\n",
    "# Russian alphabet\n",
    "russian_alphabet = ['А', 'а', 'Б', 'б', 'В', 'в', 'Г', 'г', 'Д', 'д', 'Е', 'е',\n",
    "                    'Ё', 'ё', 'Ж', 'ж', 'З', 'з', 'И', 'и', 'Й', 'й', 'К', 'к',\n",
    "                    'Л', 'л', 'М', 'м', 'Н', 'н', 'О', 'о', 'П', 'п', 'Р', 'р',\n",
    "                    'С', 'с', 'Т', 'т', 'У', 'у', 'Ф', 'ф', 'Х', 'х', 'Ц', 'ц',\n",
    "                    'Ч', 'ч', 'Ш', 'ш', 'Щ', 'щ', 'Ъ', 'ъ', 'Ы', 'ы', 'Ь', 'ь',\n",
    "                    'Э', 'э', 'Ю', 'ю', 'Я', 'я']\n",
    "\n",
    "\n",
    "\n",
    "char_map = {'Ӑ': 'А',\n",
    "            'ӑ': 'а',\n",
    "            'Ӗ': 'Е',\n",
    "            'ӗ': 'е',\n",
    "            'Ӳ': 'У',\n",
    "            'ӳ': 'у',\n",
    "            'Ҫ': 'С',\n",
    "            'ҫ': 'с',\n",
    "            'ĕ': 'е',\n",
    "            'ă': 'а',\n",
    "            'ç': 'c',\n",
    "            'ÿ': 'у',\n",
    "            'Ӳ': 'У'}"
   ]
  },
  {
   "cell_type": "code",
   "execution_count": 3,
   "id": "5291823e-f8bd-4a02-9143-8f1fa9fbf325",
   "metadata": {},
   "outputs": [],
   "source": [
    "def replace_chars(text, replacement_dict, replace_probability=0.5):\n",
    "    new_text = []\n",
    "    for c in text:\n",
    "        if c in replacement_dict and random.random() < replace_probability:\n",
    "            new_text.append(replacement_dict[c])\n",
    "        else:\n",
    "            new_text.append(c)\n",
    "    return ''.join(new_text)\n",
    "\n",
    "def add_similar_rows(csv_path, percentage, replacement_dict):\n",
    "    df = pd.read_csv(csv_path)\n",
    "    num_rows = len(df)\n",
    "    num_new_rows = int(num_rows * percentage / 100)\n",
    "\n",
    "    random_indices = np.random.randint(0, num_rows, num_new_rows)\n",
    "    selected_rows = df.iloc[random_indices].copy()\n",
    "\n",
    "    selected_rows['chv'] = [replace_chars(text, replacement_dict) for text in tqdm(selected_rows['chv'], desc=\"Replacing characters\")]\n",
    "\n",
    "    return selected_rows  # return only the modified rows"
   ]
  },
  {
   "cell_type": "code",
   "execution_count": 4,
   "id": "39f81eab-c190-426d-9d1b-f47f97c4deda",
   "metadata": {},
   "outputs": [],
   "source": [
    "test_original = pd.read_csv('corpus_test.csv')"
   ]
  },
  {
   "cell_type": "code",
   "execution_count": 5,
   "id": "7e1fc707-5bba-474a-b348-575fab4e027b",
   "metadata": {},
   "outputs": [
    {
     "name": "stderr",
     "output_type": "stream",
     "text": [
      "Replacing characters: 100%|██████████| 100201/100201 [00:01<00:00, 83708.51it/s]\n"
     ]
    }
   ],
   "source": [
    "test_replacement_50 = add_similar_rows('corpus_test.csv', 100, char_map)"
   ]
  },
  {
   "cell_type": "code",
   "execution_count": 8,
   "id": "ee724c56-e7b6-4292-a7a6-5314663857a7",
   "metadata": {},
   "outputs": [
    {
     "data": {
      "text/html": [
       "<div>\n",
       "<style scoped>\n",
       "    .dataframe tbody tr th:only-of-type {\n",
       "        vertical-align: middle;\n",
       "    }\n",
       "\n",
       "    .dataframe tbody tr th {\n",
       "        vertical-align: top;\n",
       "    }\n",
       "\n",
       "    .dataframe thead th {\n",
       "        text-align: right;\n",
       "    }\n",
       "</style>\n",
       "<table border=\"1\" class=\"dataframe\">\n",
       "  <thead>\n",
       "    <tr style=\"text-align: right;\">\n",
       "      <th></th>\n",
       "      <th>rus</th>\n",
       "      <th>chv</th>\n",
       "    </tr>\n",
       "  </thead>\n",
       "  <tbody>\n",
       "    <tr>\n",
       "      <th>83708</th>\n",
       "      <td>С помощью Ольги Шевченко я перебрался к Анне Т...</td>\n",
       "      <td>Ольга Шевченко пулӑшнипе эпӗ Карл Либкнехт ура...</td>\n",
       "    </tr>\n",
       "    <tr>\n",
       "      <th>25765</th>\n",
       "      <td>Стоит только ночью сесть на паперть на церковн...</td>\n",
       "      <td>Курас тесен, ҫерле чиркӳ алӑке умне кайса, ҫул...</td>\n",
       "    </tr>\n",
       "    <tr>\n",
       "      <th>28564</th>\n",
       "      <td>— Заявление в письменной форме? — рассмеялся п...</td>\n",
       "      <td>— Хаван ыйтӑвна ҫырсах парас терӗн-и апла? — к...</td>\n",
       "    </tr>\n",
       "    <tr>\n",
       "      <th>48050</th>\n",
       "      <td>Низовые его называют чӳпӗк.</td>\n",
       "      <td>Ҫавна анатрисем чӳпӗк теҫсе.</td>\n",
       "    </tr>\n",
       "    <tr>\n",
       "      <th>10824</th>\n",
       "      <td>Уже порой она вступала в споры со стариком; от...</td>\n",
       "      <td>Халӗ енте вӑл ашшепеле тавлашава та кӗркелене;...</td>\n",
       "    </tr>\n",
       "  </tbody>\n",
       "</table>\n",
       "</div>"
      ],
      "text/plain": [
       "                                                     rus  \\\n",
       "83708  С помощью Ольги Шевченко я перебрался к Анне Т...   \n",
       "25765  Стоит только ночью сесть на паперть на церковн...   \n",
       "28564  — Заявление в письменной форме? — рассмеялся п...   \n",
       "48050                        Низовые его называют чӳпӗк.   \n",
       "10824  Уже порой она вступала в споры со стариком; от...   \n",
       "\n",
       "                                                     chv  \n",
       "83708  Ольга Шевченко пулӑшнипе эпӗ Карл Либкнехт ура...  \n",
       "25765  Курас тесен, ҫерле чиркӳ алӑке умне кайса, ҫул...  \n",
       "28564  — Хаван ыйтӑвна ҫырсах парас терӗн-и апла? — к...  \n",
       "48050                       Ҫавна анатрисем чӳпӗк теҫсе.  \n",
       "10824  Халӗ енте вӑл ашшепеле тавлашава та кӗркелене;...  "
      ]
     },
     "execution_count": 8,
     "metadata": {},
     "output_type": "execute_result"
    }
   ],
   "source": [
    "test_replacement_50.head()"
   ]
  },
  {
   "cell_type": "code",
   "execution_count": 9,
   "id": "3bea7689-14d3-491b-8993-28a593a58e10",
   "metadata": {},
   "outputs": [],
   "source": [
    "test_replacement_50.to_csv('test_replacement_50.csv')"
   ]
  },
  {
   "cell_type": "code",
   "execution_count": null,
   "id": "56ac1573-08ac-4ab6-8b42-87fd6b50bce4",
   "metadata": {},
   "outputs": [],
   "source": [
    "!python subword-nmt/subword_nmt/apply_bpe.py -c data/bpe.codes --vocabulary data/bpe.vocab.{src} --vocabulary-threshold 50 < data/test/test_replacement_50.{src}.txt > data/test/test.{src}.bpe\n",
    "!python subword-nmt/subword_nmt/apply_bpe.py -c data/bpe.codes --vocabulary data/bpe.vocab.{tgt} --vocabulary-threshold 50 < data/test/test_replacement_50.{tgt}.txt > data/test/test.{tgt}.bpe"
   ]
  }
 ],
 "metadata": {
  "kernelspec": {
   "display_name": "Python [.conda-diploma]",
   "language": "python",
   "name": "conda-env-.conda-diploma-py"
  },
  "language_info": {
   "codemirror_mode": {
    "name": "ipython",
    "version": 3
   },
   "file_extension": ".py",
   "mimetype": "text/x-python",
   "name": "python",
   "nbconvert_exporter": "python",
   "pygments_lexer": "ipython3",
   "version": "3.9.16"
  }
 },
 "nbformat": 4,
 "nbformat_minor": 5
}
